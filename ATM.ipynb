{
 "cells": [
  {
   "cell_type": "code",
   "execution_count": 24,
   "metadata": {},
   "outputs": [],
   "source": [
    "\n",
    "from bank_account import BankAccount \n",
    "\n",
    "import time\n",
    "import sys\n",
    "\n",
    "def type(str):\n",
    "    for letter in str:\n",
    "        print(letter, end='')\n",
    "        sys.stdout.flush()\n",
    "        time.sleep(0.05)\n",
    "    \n",
    "\n",
    "\n",
    "\n",
    "class ATM() :\n",
    "    def __init__(self , branch_name , customer) :\n",
    "        self.customer = customer\n",
    "        type (\"\\t\\t\\t Welcome to {}.\\n\".format(branch_name))\n",
    "        print(\"----------------------------------------------------------------------------\\n\")\n",
    "        type(\"ENTER YOUR 4-DIGIT PIN\\n\")\n",
    "\n",
    "\n",
    "    def validate_pin(self) :\n",
    "        print(\"Forgot Pin? Type \\\"forgot\\\"\")\n",
    "        print(\"Cancel Transaction ? Type \\\"cancel\\\" \")\n",
    "        pin_input = input()\n",
    "\n",
    "        if pin_input == 'forgot' :\n",
    "            print(\"Resetting your pin. \")\n",
    "            self.customer.modify_pin()\n",
    "        \n",
    "        if pin_input == 'cancel' :\n",
    "            print(\"Your Transaction was canceled !\")\n",
    "            return \n",
    "        \n",
    "        if pin_input.isnumeric() and int(pin_input) == self.customer.pin :\n",
    "            self.action_options()\n",
    "        else :\n",
    "            type(\"\\t\\t\\t  RE-ENTER YOUR PIN\\n\")\n",
    "            self.validate_pin()\n",
    "        \n",
    "    def action_options(self) :\n",
    "        print(\"1. DEPOSIT AMOUNT\")\n",
    "        print(\"2. MODIFY \")\n",
    "        print(\"3. WITHDRAW AMOUNT \")\n",
    "        print(\"4. ACCOUNT DETAILS\")  \n",
    "        print(\"5. TO QUIT \")\n",
    "\n",
    "        type(\"TYPE 1/2/3/4 TO SELECT RESPECTIVE OPTIONS\\n\")\n",
    "        options_input = int(input())\n",
    "\n",
    "        while options_input not in [1 , 2 ,3 ,4, 5] : \n",
    "            print(\"Please enter token numbers from aforementioned options only\")\n",
    "            new_options_input = int(input(\"Enter token number :\\t\"))\n",
    "            options_input = new_options_input\n",
    "        \n",
    "        if options_input == 1 :\n",
    "            self.customer.amount_deposit()\n",
    "        elif options_input == 2 :\n",
    "            self.customer.modify_details()\n",
    "        elif options_input == 3 :\n",
    "            self.customer.withdraw_amount()\n",
    "        elif options_input == 4 :\n",
    "            self.customer.show_details()\n",
    "        else :\n",
    "            print(\"-----------------------------------------------------------------------------\")\n",
    "            type(\"\\t\\t\\t THANK YOU FOR BANKING WITH US !. VISIT AGAIN \\n\")\n",
    "            return \n",
    "\n",
    "        \n",
    "        print(\"----------------------------------------------------------------------------\\n\") \n",
    "        type(\"\\t\\t\\t YOUR TRANSACTION WAS SUCCESSFUL !\\n\")\n",
    "        type(\"\\t\\t\\t THANK YOU FOR BANKING WITH US !. VISIT AGAIN \")\n",
    "        \n"
   ]
  },
  {
   "cell_type": "code",
   "execution_count": 25,
   "metadata": {},
   "outputs": [
    {
     "name": "stdout",
     "output_type": "stream",
     "text": [
      "Bank account created successfully ! \n",
      "Your Account number :\t 3107684929\n"
     ]
    }
   ],
   "source": [
    "# Instantiating Bank account \n",
    "my_account = BankAccount(\"Aagusthya Shanker \" , 400000)\n",
    "my_account.pin = 1234\n"
   ]
  },
  {
   "cell_type": "code",
   "execution_count": 26,
   "metadata": {},
   "outputs": [
    {
     "name": "stdout",
     "output_type": "stream",
     "text": [
      "Bank account created successfully ! \n",
      "Your Account number :\t 1626807945\n"
     ]
    }
   ],
   "source": [
    "\n",
    "brother_account = BankAccount(\"Amarthya Shanker\" , 50000) \n",
    "brother_account.pin = 1114"
   ]
  },
  {
   "cell_type": "code",
   "execution_count": 28,
   "metadata": {},
   "outputs": [
    {
     "name": "stdout",
     "output_type": "stream",
     "text": [
      "\t\t\t Welcome to ICICI ATM, GOTRI, VADODARA.\n",
      "----------------------------------------------------------------------------\n",
      "\n",
      "ENTER YOUR 4-DIGIT PIN\n",
      "Forgot Pin? Type \"forgot\"\n",
      "Cancel Transaction ? Type \"cancel\" \n",
      "\t\t\t  RE-ENTER YOUR PIN\n",
      "Forgot Pin? Type \"forgot\"\n",
      "Cancel Transaction ? Type \"cancel\" \n",
      "Your Transaction was canceled !\n"
     ]
    }
   ],
   "source": [
    "# Instantiating a local ATM \n",
    "local_atm = ATM(\"ICICI ATM, GOTRI, VADODARA\" , my_account)\n",
    "local_atm.validate_pin()\n"
   ]
  },
  {
   "cell_type": "code",
   "execution_count": null,
   "metadata": {},
   "outputs": [],
   "source": []
  },
  {
   "cell_type": "code",
   "execution_count": null,
   "metadata": {},
   "outputs": [],
   "source": []
  }
 ],
 "metadata": {
  "kernelspec": {
   "display_name": "base",
   "language": "python",
   "name": "python3"
  },
  "language_info": {
   "codemirror_mode": {
    "name": "ipython",
    "version": 3
   },
   "file_extension": ".py",
   "mimetype": "text/x-python",
   "name": "python",
   "nbconvert_exporter": "python",
   "pygments_lexer": "ipython3",
   "version": "3.9.12"
  },
  "orig_nbformat": 4,
  "vscode": {
   "interpreter": {
    "hash": "6f5583cf1d9466b5c27e75c89cc6b383bed5736d6b16c51c8074d8690011a952"
   }
  }
 },
 "nbformat": 4,
 "nbformat_minor": 2
}
